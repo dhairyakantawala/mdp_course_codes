{
 "cells": [
  {
   "cell_type": "markdown",
   "id": "999a55c8",
   "metadata": {},
   "source": [
    "3. Consider the two-state MDP discussed in class. S= {S1,S2},As1\n",
    "= {a1,1,a1,2},As2\n",
    "= {a2,2},\n",
    "p(s1 |s1,a1,1) = p(s2 |s1,a1,1) = 1\n",
    "2, p(s2 |s1,a1,2) = 1, p(s2 |s2,a2,2) = 1;\n",
    "r(s1,a1,1) = 5, r(s1,a1,2) = 10, r(s2,a2,1) =−1.\n",
    "Compute an optimal decision rule at state S1 as a function of λ∈[0,1)."
   ]
  },
  {
   "cell_type": "markdown",
   "id": "4b7f1188",
   "metadata": {},
   "source": [
    "10. Consider the setting of Problem 3. Implement the value iteration algorithm on a computer.\n",
    "Your code should take the discount factor λ and the approximation parameter ε as inputs,\n",
    "and return an ε-approximate policy and its value function. For λ = 0.95 and ε = 0.01, plot\n",
    "your iterates until convergence. Do you observe any monotonicity in your iterates?"
   ]
  },
  {
   "cell_type": "code",
   "execution_count": 2,
   "id": "d533cf9d",
   "metadata": {},
   "outputs": [],
   "source": [
    "def L(v_n, lamb):\n",
    "    v_n_S_1 = v_n[0]\n",
    "    v_n_S_2 = v_n[1]\n",
    "    v_n_1 = v_n\n",
    "    v_n_1[0] = max(10 + lamb*(v_n[1]), 5 + lamb*0.5*(v_n[0] + v_n[1]))\n",
    "    v_n_1[1] = -1 + lamb*v_n[1]\n",
    "    best_action = 1\n",
    "    if 10 + lamb*(v_n[1]) >= 5 + lamb*0.5*(v_n[0] + v_n[1]):\n",
    "        best_action = 2\n",
    "    return v_n_1, best_action"
   ]
  },
  {
   "cell_type": "code",
   "execution_count": 3,
   "id": "4cbb286d",
   "metadata": {},
   "outputs": [
    {
     "data": {
      "text/plain": [
       "([10.0, -1.0], 2)"
      ]
     },
     "execution_count": 3,
     "metadata": {},
     "output_type": "execute_result"
    }
   ],
   "source": [
    "L([0, 0], 0.2)"
   ]
  },
  {
   "cell_type": "code",
   "execution_count": 4,
   "id": "99fd83ef",
   "metadata": {},
   "outputs": [],
   "source": [
    "def norm(v_1, v_2):\n",
    "    return ((v_1[0] - v_2[0])**2 + (v_1[1] - v_2[1])**2)**0.5"
   ]
  },
  {
   "cell_type": "code",
   "execution_count": 19,
   "id": "865b3640",
   "metadata": {},
   "outputs": [],
   "source": [
    "import matplotlib.pyplot as plt\n",
    "def value_itteration(lamb, epsilon):\n",
    "    v_n = [0.0, 0.0]\n",
    "    v_n_1, a = L(v_n.copy(), lamb)\n",
    "    values1 = []\n",
    "    values2 = []\n",
    "    values3 = []\n",
    "    while norm(v_n, v_n_1) > epsilon*((1-lamb)/(2*lamb)):\n",
    "        v_n = v_n_1.copy()\n",
    "        v_n_1, a = L(v_n.copy(), lamb)\n",
    "        values1.append(v_n_1[0])\n",
    "        values2.append(v_n_1[1])\n",
    "        values3.append(norm(v_n, v_n_1))\n",
    "        \n",
    "    plt.plot(values1, label='v_n[s_1]')\n",
    "    plt.plot(values2, label='v_n[s_2]')\n",
    "    plt.plot(values3, label='norm')\n",
    "    plt.legend()\n",
    "    plt.xlabel('Iteration')\n",
    "    plt.ylabel('Value')\n",
    "    plt.show()\n",
    "    return v_n_1, a\n",
    "\n"
   ]
  },
  {
   "cell_type": "code",
   "execution_count": 20,
   "id": "f7574b05",
   "metadata": {},
   "outputs": [
    {
     "data": {
      "image/png": "[encoded data removed]",
      "text/plain": [
       "<Figure size 640x480 with 1 Axes>"
      ]
     },
     "metadata": {},
     "output_type": "display_data"
    },
    {
     "data": {
      "text/plain": [
       "([7.666669698478934, -3.3333303015210656], 2)"
      ]
     },
     "execution_count": 20,
     "metadata": {},
     "output_type": "execute_result"
    }
   ],
   "source": [
    "value_itteration(0.7, 0.00001)"
   ]
  },
  {
   "cell_type": "code",
   "execution_count": null,
   "id": "98304ee7",
   "metadata": {},
   "outputs": [],
   "source": []
  }
 ],
 "metadata": {
  "kernelspec": {
   "display_name": "Python 3",
   "language": "python",
   "name": "python3"
  },
  "language_info": {
   "codemirror_mode": {
    "name": "ipython",
    "version": 3
   },
   "file_extension": ".py",
   "mimetype": "text/x-python",
   "name": "python",
   "nbconvert_exporter": "python",
   "pygments_lexer": "ipython3",
   "version": "3.12.4"
  }
 },
 "nbformat": 4,
 "nbformat_minor": 5
}
