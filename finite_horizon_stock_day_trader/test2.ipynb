{
 "cells": [
  {
   "cell_type": "code",
   "execution_count": 91,
   "id": "243d4024",
   "metadata": {},
   "outputs": [
    {
     "name": "stderr",
     "output_type": "stream",
     "text": [
      "ERROR:tvDatafeed.main:error while signin\n",
      "WARNING:tvDatafeed.main:you are using nologin method, data you access may be limited\n"
     ]
    }
   ],
   "source": [
    "from pylab import mpl, plt\n",
    "plt.style.use(plt.style.available[11])\n",
    "mpl.rcParams['font.family'] = 'serif'\n",
    "from tvDatafeed import TvDatafeed, Interval\n",
    "username = ''\n",
    "password = ''\n",
    "\n",
    "tvl = TvDatafeed(username, password)\n",
    "import numpy as np\n",
    "import pandas as pd\n",
    "\n",
    "\n",
    "\n",
    "def t_matrix_maker(ticker):\n",
    "    data=tvl.get_hist(ticker, 'NSE', interval=Interval.in_1_hour, n_bars=300000, fut_contract=None, extended_session=False)\n",
    "    data['returns'] = (data['close'] - data['close'].shift(1))/data['close'].shift(1)\n",
    "    returns = data['returns']\n",
    "    returns = returns.dropna()\n",
    "    returns = returns.round(2)\n",
    "    returns = returns.to_list()\n",
    "    zeros = np.zeros((int(100*(max(returns) - min(returns))) + 1, int(100*(max(returns) - min(returns))) + 1))\n",
    "    t_matrix = pd.DataFrame(zeros, [i for i in range(int(100*min(returns)), int(100*max(returns)) + 1)], [i for i in range(int(100*min(returns)), int(100*max(returns)) + 1)])\n",
    "    \n",
    "    for i in range(len(returns)-1):\n",
    "        curr = int (100*returns[i])\n",
    "        next = int (100*returns[i+1])\n",
    "        t_matrix.loc[curr, next] += 1\n",
    "\n",
    "    sums = t_matrix.sum()\n",
    "    t_matrix = t_matrix.T\n",
    "    to_drop = []\n",
    "    for i in t_matrix.columns :\n",
    "        if sums[i] == 0:\n",
    "            to_drop.append(i)\n",
    "    t_matrix = t_matrix.drop(columns=to_drop)\n",
    "    t_matrix = t_matrix.T\n",
    "    t_matrix = t_matrix.drop(columns=to_drop)\n",
    "\n",
    "    sums = t_matrix.sum()\n",
    "    t_matrix = t_matrix.T\n",
    "    for i in t_matrix.columns:\n",
    "        t_matrix[i] = t_matrix[i]/sums[i]\n",
    "    t_matrix = t_matrix.T\n",
    "    return t_matrix"
   ]
  },
  {
   "cell_type": "code",
   "execution_count": 98,
   "id": "a3ced582",
   "metadata": {},
   "outputs": [],
   "source": [
    "t_matrix = t_matrix_maker('ETERNAL')"
   ]
  },
  {
   "cell_type": "code",
   "execution_count": 104,
   "id": "14b40b93",
   "metadata": {},
   "outputs": [],
   "source": [
    "exp_returns = {}"
   ]
  },
  {
   "cell_type": "code",
   "execution_count": 110,
   "id": "0687a6cd",
   "metadata": {},
   "outputs": [],
   "source": [
    "for i in t_matrix.index:\n",
    "    exp_r = 0\n",
    "    for col in t_matrix.columns:\n",
    "        exp_r += int(col)*(t_matrix.loc[i, col])\n",
    "    exp_returns[i] = float(exp_r)/100\n",
    "    exp_r = 0"
   ]
  },
  {
   "cell_type": "code",
   "execution_count": 111,
   "id": "085ace20",
   "metadata": {},
   "outputs": [
    {
     "data": {
      "text/plain": [
       "{-19: 0.0,\n",
       " -11: 0.0,\n",
       " -8: -0.005,\n",
       " -6: -0.00857142857142857,\n",
       " -5: 0.013333333333333332,\n",
       " -4: -0.0026086956521739137,\n",
       " -3: -0.002321428571428571,\n",
       " -2: 0.0018539325842696624,\n",
       " -1: 8.955223880597043e-05,\n",
       " 0: -5.343307507347404e-06,\n",
       " 1: 0.0007805429864253397,\n",
       " 2: 0.0,\n",
       " 3: 0.004657534246575342,\n",
       " 4: -0.0008333333333333334,\n",
       " 5: -0.0058333333333333345,\n",
       " 6: -0.0025,\n",
       " 7: 0.0,\n",
       " 8: -0.01,\n",
       " 9: -0.005,\n",
       " 10: 0.02,\n",
       " 11: 0.06,\n",
       " 14: -0.04,\n",
       " 15: -0.02}"
      ]
     },
     "execution_count": 111,
     "metadata": {},
     "output_type": "execute_result"
    }
   ],
   "source": [
    "exp_returns"
   ]
  },
  {
   "cell_type": "code",
   "execution_count": 117,
   "id": "c30cc1ba",
   "metadata": {},
   "outputs": [],
   "source": [
    "def reward(state, action, exp_returns):\n",
    "    returns, weights = state\n",
    "    return (weights + action)*exp_returns[returns] - 0.003*abs(action)"
   ]
  },
  {
   "cell_type": "code",
   "execution_count": 125,
   "id": "58e1daf5",
   "metadata": {},
   "outputs": [
    {
     "data": {
      "text/plain": [
       "0.007333333333333332"
      ]
     },
     "execution_count": 125,
     "metadata": {},
     "output_type": "execute_result"
    }
   ],
   "source": [
    "reward((-5, -1), 2, exp_returns)"
   ]
  },
  {
   "cell_type": "code",
   "execution_count": 126,
   "id": "2da67ea5",
   "metadata": {},
   "outputs": [],
   "source": [
    "def terminal_reward(state, exp_returns):\n",
    "    _, weights = state\n",
    "    return reward(state, -weights, exp_returns)"
   ]
  },
  {
   "cell_type": "code",
   "execution_count": 132,
   "id": "6efe6881",
   "metadata": {},
   "outputs": [
    {
     "data": {
      "text/plain": [
       "-0.003"
      ]
     },
     "execution_count": 132,
     "metadata": {},
     "output_type": "execute_result"
    }
   ],
   "source": [
    "terminal_reward((-8, 1), exp_returns)"
   ]
  }
 ],
 "metadata": {
  "kernelspec": {
   "display_name": "new_env",
   "language": "python",
   "name": "python3"
  },
  "language_info": {
   "name": "python",
   "version": "3.12.7"
  }
 },
 "nbformat": 4,
 "nbformat_minor": 5
}
