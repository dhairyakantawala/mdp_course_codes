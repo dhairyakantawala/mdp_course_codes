{
 "cells": [
  {
   "cell_type": "markdown",
   "id": "3f1a332c",
   "metadata": {},
   "source": [
    "let's try to make a better tmatrix"
   ]
  },
  {
   "cell_type": "code",
   "execution_count": 944,
   "id": "a5afd475",
   "metadata": {},
   "outputs": [],
   "source": [
    "from pylab import mpl, plt\n",
    "plt.style.use(plt.style.available[11])\n",
    "mpl.rcParams['font.family'] = 'serif'\n",
    "%matplotlib inline"
   ]
  },
  {
   "cell_type": "code",
   "execution_count": 945,
   "id": "0e41fd54",
   "metadata": {},
   "outputs": [
    {
     "name": "stderr",
     "output_type": "stream",
     "text": [
      "ERROR:tvDatafeed.main:error while signin\n",
      "WARNING:tvDatafeed.main:you are using nologin method, data you access may be limited\n"
     ]
    }
   ],
   "source": [
    "from tvDatafeed import TvDatafeed, Interval\n",
    "username = ''\n",
    "password = ''\n",
    "\n",
    "tvl = TvDatafeed(username, password)"
   ]
  },
  {
   "cell_type": "code",
   "execution_count": 946,
   "id": "1cea3c10",
   "metadata": {},
   "outputs": [],
   "source": [
    "ticker = 'HDFCBANK'\n",
    "data=tvl.get_hist(ticker, 'NSE', interval=Interval.in_1_hour, n_bars=300000, fut_contract=None, extended_session=False)"
   ]
  },
  {
   "cell_type": "code",
   "execution_count": 947,
   "id": "85c9abfa",
   "metadata": {},
   "outputs": [],
   "source": [
    "import numpy as np"
   ]
  },
  {
   "cell_type": "code",
   "execution_count": 948,
   "id": "42ab616b",
   "metadata": {},
   "outputs": [],
   "source": [
    "data['open_close_returns'] = np.log(data['close']) - np.log(data['open'])"
   ]
  },
  {
   "cell_type": "code",
   "execution_count": 949,
   "id": "8dc907d6",
   "metadata": {},
   "outputs": [],
   "source": [
    "data['open_close_returns_adjusted'] = (data['open_close_returns'])*100"
   ]
  },
  {
   "cell_type": "code",
   "execution_count": 950,
   "id": "99f7fb02",
   "metadata": {},
   "outputs": [
    {
     "data": {
      "text/plain": [
       "datetime\n",
       "2022-01-03 09:15:00    1.136243\n",
       "2022-01-03 10:15:00    0.076625\n",
       "2022-01-03 11:15:00    0.286047\n",
       "2022-01-03 12:15:00    0.437449\n",
       "2022-01-03 13:15:00    0.194916\n",
       "                         ...   \n",
       "2025-08-14 11:15:00    0.195995\n",
       "2025-08-14 12:15:00    0.080289\n",
       "2025-08-14 13:15:00   -0.050173\n",
       "2025-08-14 14:15:00   -0.070299\n",
       "2025-08-14 15:15:00   -0.085425\n",
       "Name: open_close_returns_adjusted, Length: 6269, dtype: float64"
      ]
     },
     "execution_count": 950,
     "metadata": {},
     "output_type": "execute_result"
    }
   ],
   "source": [
    "data['open_close_returns_adjusted']"
   ]
  },
  {
   "cell_type": "code",
   "execution_count": 951,
   "id": "e225d22a",
   "metadata": {},
   "outputs": [
    {
     "data": {
      "text/plain": [
       "np.float64(-0.18770715542224536)"
      ]
     },
     "execution_count": 951,
     "metadata": {},
     "output_type": "execute_result"
    }
   ],
   "source": [
    "data['open_close_returns_adjusted'].quantile(0.25)"
   ]
  },
  {
   "cell_type": "code",
   "execution_count": 952,
   "id": "434f4f11",
   "metadata": {},
   "outputs": [],
   "source": [
    "for index in data.index:\n",
    "    if data.loc[index, 'open_close_returns_adjusted'] < data['open_close_returns_adjusted'].quantile(0.33):\n",
    "        data.loc[index, 'today_state'] = -1\n",
    "    elif data.loc[index, 'open_close_returns_adjusted'] > data['open_close_returns_adjusted'].quantile(0.66):\n",
    "        data.loc[index, 'today_state'] = 1\n",
    "    else:\n",
    "        data.loc[index, 'today_state'] = 0"
   ]
  },
  {
   "cell_type": "code",
   "execution_count": 953,
   "id": "2525efe8",
   "metadata": {},
   "outputs": [],
   "source": [
    "N = 3\n",
    "state_cols = []\n",
    "for i in range(1, N+1):\n",
    "    data[f'{i}_state'] = data['today_state'].shift(i)\n",
    "    state_cols.append(f'{i}_state')\n",
    "data = data.dropna(axis=0)"
   ]
  },
  {
   "cell_type": "code",
   "execution_count": 954,
   "id": "e91eb8a1",
   "metadata": {},
   "outputs": [],
   "source": [
    "for index in data.index:\n",
    "    data.loc[index, 'state'] = str([int(data.loc[index, col]) for col in state_cols])"
   ]
  },
  {
   "cell_type": "code",
   "execution_count": 955,
   "id": "623d38a6",
   "metadata": {},
   "outputs": [],
   "source": [
    "data['today_state'] = data['today_state'].astype(int)"
   ]
  },
  {
   "cell_type": "code",
   "execution_count": 956,
   "id": "26484f7f",
   "metadata": {},
   "outputs": [],
   "source": [
    "data = data[['today_state', 'state']]"
   ]
  },
  {
   "cell_type": "code",
   "execution_count": 957,
   "id": "e5a642ea",
   "metadata": {},
   "outputs": [
    {
     "data": {
      "text/html": [
       "<div>\n",
       "<style scoped>\n",
       "    .dataframe tbody tr th:only-of-type {\n",
       "        vertical-align: middle;\n",
       "    }\n",
       "\n",
       "    .dataframe tbody tr th {\n",
       "        vertical-align: top;\n",
       "    }\n",
       "\n",
       "    .dataframe thead th {\n",
       "        text-align: right;\n",
       "    }\n",
       "</style>\n",
       "<table border=\"1\" class=\"dataframe\">\n",
       "  <thead>\n",
       "    <tr style=\"text-align: right;\">\n",
       "      <th></th>\n",
       "      <th>today_state</th>\n",
       "      <th>state</th>\n",
       "    </tr>\n",
       "    <tr>\n",
       "      <th>datetime</th>\n",
       "      <th></th>\n",
       "      <th></th>\n",
       "    </tr>\n",
       "  </thead>\n",
       "  <tbody>\n",
       "    <tr>\n",
       "      <th>2022-01-03 12:15:00</th>\n",
       "      <td>1</td>\n",
       "      <td>[1, 0, 1]</td>\n",
       "    </tr>\n",
       "    <tr>\n",
       "      <th>2022-01-03 13:15:00</th>\n",
       "      <td>1</td>\n",
       "      <td>[1, 1, 0]</td>\n",
       "    </tr>\n",
       "    <tr>\n",
       "      <th>2022-01-03 14:15:00</th>\n",
       "      <td>1</td>\n",
       "      <td>[1, 1, 1]</td>\n",
       "    </tr>\n",
       "    <tr>\n",
       "      <th>2022-01-03 15:15:00</th>\n",
       "      <td>0</td>\n",
       "      <td>[1, 1, 1]</td>\n",
       "    </tr>\n",
       "    <tr>\n",
       "      <th>2022-01-04 09:15:00</th>\n",
       "      <td>1</td>\n",
       "      <td>[0, 1, 1]</td>\n",
       "    </tr>\n",
       "    <tr>\n",
       "      <th>...</th>\n",
       "      <td>...</td>\n",
       "      <td>...</td>\n",
       "    </tr>\n",
       "    <tr>\n",
       "      <th>2025-08-14 11:15:00</th>\n",
       "      <td>1</td>\n",
       "      <td>[0, 1, -1]</td>\n",
       "    </tr>\n",
       "    <tr>\n",
       "      <th>2025-08-14 12:15:00</th>\n",
       "      <td>0</td>\n",
       "      <td>[1, 0, 1]</td>\n",
       "    </tr>\n",
       "    <tr>\n",
       "      <th>2025-08-14 13:15:00</th>\n",
       "      <td>0</td>\n",
       "      <td>[0, 1, 0]</td>\n",
       "    </tr>\n",
       "    <tr>\n",
       "      <th>2025-08-14 14:15:00</th>\n",
       "      <td>0</td>\n",
       "      <td>[0, 0, 1]</td>\n",
       "    </tr>\n",
       "    <tr>\n",
       "      <th>2025-08-14 15:15:00</th>\n",
       "      <td>0</td>\n",
       "      <td>[0, 0, 0]</td>\n",
       "    </tr>\n",
       "  </tbody>\n",
       "</table>\n",
       "<p>6266 rows × 2 columns</p>\n",
       "</div>"
      ],
      "text/plain": [
       "                     today_state       state\n",
       "datetime                                    \n",
       "2022-01-03 12:15:00            1   [1, 0, 1]\n",
       "2022-01-03 13:15:00            1   [1, 1, 0]\n",
       "2022-01-03 14:15:00            1   [1, 1, 1]\n",
       "2022-01-03 15:15:00            0   [1, 1, 1]\n",
       "2022-01-04 09:15:00            1   [0, 1, 1]\n",
       "...                          ...         ...\n",
       "2025-08-14 11:15:00            1  [0, 1, -1]\n",
       "2025-08-14 12:15:00            0   [1, 0, 1]\n",
       "2025-08-14 13:15:00            0   [0, 1, 0]\n",
       "2025-08-14 14:15:00            0   [0, 0, 1]\n",
       "2025-08-14 15:15:00            0   [0, 0, 0]\n",
       "\n",
       "[6266 rows x 2 columns]"
      ]
     },
     "execution_count": 957,
     "metadata": {},
     "output_type": "execute_result"
    }
   ],
   "source": [
    "data"
   ]
  },
  {
   "cell_type": "code",
   "execution_count": 958,
   "id": "4b095102",
   "metadata": {},
   "outputs": [
    {
     "name": "stdout",
     "output_type": "stream",
     "text": [
      "0.41836734693877553\n"
     ]
    }
   ],
   "source": [
    "max_prob = 0\n",
    "for i in {-1, 0, 1}:\n",
    "    for j in {-1, 0, 1}:\n",
    "        for k in {-1, 0, 1}:\n",
    "            # for l in {-1, 0, 1}:\n",
    "            #     for m in {-1, 0, 1}:\n",
    "                    temp_list = data[data['state'] == f'[{i}, {j}, {k}]']['today_state'].to_list()\n",
    "                    probs = max(temp_list.count(-1)/(len(temp_list)), temp_list.count(1)/(len(temp_list)))\n",
    "                    max_prob = max(probs, max_prob)\n",
    "print(max_prob)"
   ]
  },
  {
   "cell_type": "code",
   "execution_count": 959,
   "id": "1fc38747",
   "metadata": {},
   "outputs": [],
   "source": [
    "# for i in {-1, 0, 1}:\n",
    "#     for j in {-1, 0, 1}:\n",
    "#         for k in {-1, 0, 1}:\n",
    "#             for l in {-1, 0, 1}:\n",
    "#                 plt.figure(figsize=(8,5.5))\n",
    "#                 data[data['state'] == f'[{i}, {j}, {k}, {l}]']['today_state'].plot(kind='hist', title=f'[{i}, {j}, {k}, {l}]')\n",
    "#                 plt.show()"
   ]
  },
  {
   "cell_type": "code",
   "execution_count": null,
   "id": "fb8985b5",
   "metadata": {},
   "outputs": [],
   "source": []
  }
 ],
 "metadata": {
  "kernelspec": {
   "display_name": "new_env",
   "language": "python",
   "name": "python3"
  },
  "language_info": {
   "codemirror_mode": {
    "name": "ipython",
    "version": 3
   },
   "file_extension": ".py",
   "mimetype": "text/x-python",
   "name": "python",
   "nbconvert_exporter": "python",
   "pygments_lexer": "ipython3",
   "version": "3.12.7"
  }
 },
 "nbformat": 4,
 "nbformat_minor": 5
}
